{
 "cells": [
  {
   "cell_type": "code",
   "execution_count": 3,
   "id": "ca07f97a",
   "metadata": {},
   "outputs": [],
   "source": [
    "import pandas as pd\n",
    "import numpy as np\n",
    "import openpyxl\n",
    "import azure.storage.blob\n",
    "import azure.identity\n",
    "import pyspark\n",
    "import langchain\n",
    "import openai\n",
    "import chromadb\n",
    "import sentence_transformers\n",
    "import tiktoken\n",
    "import dotenv\n",
    "from tqdm.notebook import tqdm\n"
   ]
  }
 ],
 "metadata": {
  "kernelspec": {
   "display_name": "py313",
   "language": "python",
   "name": "python3"
  },
  "language_info": {
   "codemirror_mode": {
    "name": "ipython",
    "version": 3
   },
   "file_extension": ".py",
   "mimetype": "text/x-python",
   "name": "python",
   "nbconvert_exporter": "python",
   "pygments_lexer": "ipython3",
   "version": "3.11.13"
  }
 },
 "nbformat": 4,
 "nbformat_minor": 5
}
